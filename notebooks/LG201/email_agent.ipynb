{
 "cells": [
  {
   "cell_type": "markdown",
   "id": "aa28c5ca",
   "metadata": {},
   "source": [
    "# LangGraph 201: Building an Email Agent\n",
    "\n",
    "In this notebook, we're going to walk through setting up an **email agent** in LangGraph. We will start from a simple ReAct-style agent and add additional steps into the workflow, simulating a realistic email assistant.\n",
    "\n",
    "\n",
    "![Arch](../images/email_agent.png) \n",
    "\n",
    "\n",
    "For a deeper dive into LangGraph primitives and learning our framework, check out our [LangChain Academy](https://academy.langchain.com/courses/intro-to-langgraph)!\n"
   ]
  },
  {
   "cell_type": "markdown",
   "id": "7b187d33",
   "metadata": {},
   "source": [
    "## Pre-work: Setup\n",
    "\n",
    "### Loading Environment Variables\n",
    "\n",
    "To start, let's load our environment variables from our .env file. Make sure all of the keys necessary in .env.example are included!\n",
    "We use OpenAI in this example, but feel free to swap ChatOpenAI with other model providers that you prefer. "
   ]
  },
  {
   "cell_type": "code",
   "execution_count": 1,
   "id": "1fc87496",
   "metadata": {},
   "outputs": [
    {
     "data": {
      "text/plain": [
       "True"
      ]
     },
     "execution_count": 1,
     "metadata": {},
     "output_type": "execute_result"
    }
   ],
   "source": [
    "from dotenv import load_dotenv\n",
    "from langchain_openai import ChatOpenAI\n",
    "\n",
    "load_dotenv(dotenv_path=\"../.env\", override=True)"
   ]
  },
  {
   "cell_type": "markdown",
   "id": "6cf60f58",
   "metadata": {
    "vscode": {
     "languageId": "plaintext"
    }
   },
   "source": [
    "### Setting up Short and Long-Term Memory\n",
    "\n",
    "We will also initialize a checkpointer for **short-term memory**, maintaining context within a single thread. \n",
    "\n",
    "**Long term memory** lets you store and recall information between conversations. Today, we will utilize our long term memory store to store user preferences for personalization. "
   ]
  },
  {
   "cell_type": "code",
   "execution_count": 2,
   "id": "4a16b175",
   "metadata": {},
   "outputs": [],
   "source": [
    "from langgraph.checkpoint.memory import MemorySaver\n",
    "from langgraph.store.memory import InMemoryStore\n",
    "\n",
    "# Initializing long term memory store \n",
    "in_memory_store = InMemoryStore()\n",
    "\n",
    "# Initializing checkpoint for thread-level memory \n",
    "checkpointer = MemorySaver()"
   ]
  },
  {
   "cell_type": "markdown",
   "id": "7b1718a3",
   "metadata": {},
   "source": [
    "### Initialize our LLM"
   ]
  },
  {
   "cell_type": "code",
   "execution_count": 3,
   "id": "8fc52039",
   "metadata": {},
   "outputs": [],
   "source": [
    "llm = ChatOpenAI(model=\"gpt-4.1\", temperature=0.0)\n",
    "\n",
    "# Note: If you are using another `ChatModel`, you can define it in `models.py` and import it here\n",
    "# from models import AZURE_OPENAI_GPT_4O\n",
    "# llm = AZURE_OPENAI_GPT_4O"
   ]
  },
  {
   "cell_type": "markdown",
   "id": "2bba96ea",
   "metadata": {},
   "source": [
    "## Part 1: Creating an Email Agent\n",
    "![Arch](../images/email_response_agent.png)\n"
   ]
  },
  {
   "cell_type": "markdown",
   "id": "0e84f611",
   "metadata": {},
   "source": [
    "### State\n",
    "\n",
    "How does information flow through the steps?  \n",
    "\n",
    "State is the first LangGraph concept we'll cover. **State can be thought of as the memory of the agent - its a shared data structure that’s passed on between the nodes of your graph**, representing the current snapshot of your application. \n",
    "\n",
    "For this our email agent our state will track the following elements: \n",
    "1. An input email\n",
    "2. A classification decision - whether to respond to the email\n",
    "3. The conversation history\n",
    "4. Any loaded long-term memories\n",
    "5. Remaining steps - before we hit our recurion limit"
   ]
  },
  {
   "cell_type": "code",
   "execution_count": 4,
   "id": "56085779",
   "metadata": {},
   "outputs": [],
   "source": [
    "from typing_extensions import TypedDict\n",
    "from typing import Annotated, Literal\n",
    "from langgraph.graph.message import AnyMessage, add_messages\n",
    "\n",
    "class State(TypedDict):\n",
    "    # This state class has the messages key build in\n",
    "    email_input: dict\n",
    "    classification_decision: Literal[\"ignore\", \"respond\", \"notify\"]\n",
    "    messages: Annotated[list[AnyMessage], add_messages]\n",
    "    loaded_memory: str\n",
    "    remaining_steps: int\n",
    "\n"
   ]
  },
  {
   "cell_type": "markdown",
   "id": "0957ecae",
   "metadata": {},
   "source": [
    "### Tools\n",
    "\n",
    "Let's define a list of **tools** our agent will have access to. Tools are functionts that can act as extension of the LLM's capabilities. In our case, we will first create several tools that interacts with the Chinook database regarding music. \n",
    "\n",
    "We can create tools using the @tool decorator to create a tool"
   ]
  },
  {
   "cell_type": "code",
   "execution_count": 5,
   "id": "908fa50a",
   "metadata": {},
   "outputs": [],
   "source": [
    "from langchain_core.tools import tool\n",
    "from datetime import datetime\n",
    "from pydantic import BaseModel\n",
    "\n",
    "@tool\n",
    "def schedule_meeting(\n",
    "    attendees: list[str], subject: str, duration_minutes: int, preferred_day: datetime, start_time: int\n",
    ") -> str:\n",
    "    \"\"\"Schedule a calendar meeting.\"\"\"\n",
    "    # Placeholder response - in real app would check calendar and schedule\n",
    "    date_str = preferred_day.strftime(\"%A, %B %d, %Y\")\n",
    "    return f\"Meeting '{subject}' scheduled on {date_str} at {start_time} for {duration_minutes} minutes with {len(attendees)} attendees\"\n",
    "\n",
    "@tool\n",
    "def check_calendar_availability(day: str) -> str:\n",
    "    \"\"\"Check calendar availability for a given day.\"\"\"\n",
    "    # Placeholder response - in real app would check actual calendar\n",
    "    return f\"Available times on {day}: 9:00 AM, 2:00 PM, 4:00 PM\"\n",
    "\n",
    "\n",
    "@tool\n",
    "def write_email(to: str, subject: str, content: str) -> str:\n",
    "    \"\"\"Write and send an email.\"\"\"\n",
    "    # Placeholder response - in real app would send email\n",
    "    return f\"Email sent to {to} with subject '{subject}' and content: {content}\"\n",
    "\n",
    "@tool\n",
    "class Done(BaseModel):\n",
    "    \"\"\"E-mail has been sent.\"\"\"\n",
    "    done: bool"
   ]
  },
  {
   "cell_type": "markdown",
   "id": "6e34cbdb",
   "metadata": {},
   "source": [
    "To make our LLM aware that these tools are available to call, we'll use the `bind_tools` method."
   ]
  },
  {
   "cell_type": "code",
   "execution_count": 6,
   "id": "817b900c",
   "metadata": {},
   "outputs": [],
   "source": [
    "tools = [schedule_meeting, check_calendar_availability, write_email, Done]\n",
    "tools_by_name = {tool.name: tool for tool in tools}\n",
    "\n",
    "llm_with_tools = llm.bind_tools(tools, tool_choice=\"any\", parallel_tool_calls=False)"
   ]
  },
  {
   "cell_type": "markdown",
   "id": "347ad1c2",
   "metadata": {},
   "source": [
    "### Nodes\n",
    "\n",
    "Now that we have a list of tools, we are ready to build nodes that interact with them. \n",
    "\n",
    "Nodes are just python (or JS/TS!) functions. Nodes take in your graph's State as input, execute some logic, and return a new State. \n",
    "\n",
    "Here, we're just going to set up 2 nodes for our ReAct agent:\n",
    "1. **reasoning**: Reasoning node that decides which function to invoke \n",
    "2. **tools**: Node that contains all the available tools and executes the function\n",
    "\n",
    "LangChain has a ToolNode that we can utilize to create a node for our tools. "
   ]
  },
  {
   "cell_type": "code",
   "execution_count": 7,
   "id": "7b956c69",
   "metadata": {},
   "outputs": [],
   "source": [
    "from langchain.agents import ToolNode\n",
    "# Node\n",
    "tool_node = ToolNode(tools)"
   ]
  },
  {
   "cell_type": "markdown",
   "id": "d9e10bd2",
   "metadata": {},
   "source": [
    "For email processing, let's define helpers to parse and format email inputs."
   ]
  },
  {
   "cell_type": "code",
   "execution_count": 8,
   "id": "e98ed2a8",
   "metadata": {},
   "outputs": [],
   "source": [
    "def parse_email(email_input: dict) -> dict:\n",
    "    return (\n",
    "        email_input[\"author\"],\n",
    "        email_input[\"to\"],\n",
    "        email_input[\"subject\"],\n",
    "        email_input[\"email_thread\"],\n",
    "    )\n",
    "\n",
    "def format_email_markdown(subject, author, to, email_thread, email_id=None):\n",
    "    id_section = f\"\\n**ID**: {email_id}\" if email_id else \"\"\n",
    "    \n",
    "    return f\"\"\"\n",
    "\n",
    "**Subject**: {subject}\n",
    "**From**: {author}\n",
    "**To**: {to}{id_section}\n",
    "\n",
    "{email_thread}\n",
    "\n",
    "---\n",
    "\"\"\"\n"
   ]
  },
  {
   "cell_type": "code",
   "execution_count": 9,
   "id": "cef82256",
   "metadata": {},
   "outputs": [],
   "source": [
    "from langchain_core.messages import SystemMessage, HumanMessage\n",
    "\n",
    "def create_agent_prompt(state: State):\n",
    "    action_instructions = \"\"\"\n",
    "    < Role >\n",
    "    You are a top-notch executive assistant who cares about helping your executive perform as well as possible.\n",
    "    </ Role >\n",
    "\n",
    "    < Tools >\n",
    "    You have access to the following tools to help manage communications and schedule:\n",
    "\n",
    "    1. write_email(to, subject, content) - Send emails to specified recipients\n",
    "    2. schedule_meeting(attendees, subject, duration_minutes, preferred_day, start_time) - Schedule calendar meetings\n",
    "    3. check_calendar_availability(day) - Check available time slots for a given day\n",
    "    4. Done - E-mail has been sent\n",
    "    </ Tools >\n",
    "\n",
    "    < Instructions >\n",
    "    When handling emails, follow these steps:\n",
    "    1. Carefully analyze the email content and purpose\n",
    "    3. For responding to the email, draft a response email with the write_email tool\n",
    "    4. For meeting requests, use the check_calendar_availability tool to find open time slots\n",
    "    5. To schedule a meeting, use the schedule_meeting tool with a datetime object for the preferred_day parameter\n",
    "    - Today's date is {today} - use this for scheduling meetings accurately\n",
    "    6. If you scheduled a meeting, then draft a short response email using the write_email tool\n",
    "    7. After using the write_email tool, the task is complete\n",
    "    8. If you have sent the email, then use the Done tool to indicate that the task is complete\n",
    "    </ Instructions >\n",
    "\n",
    "    < Background >\n",
    "    I'm Robert, a software engineer at LangChain.\n",
    "    </ Background >\n",
    "\n",
    "    < Response Preferences >\n",
    "    Use professional and concise language. If the e-mail mentions a deadline, make sure to explicitly acknowledge and reference the deadline in your response.\n",
    "\n",
    "    When responding to technical questions that require investigation:\n",
    "    - Clearly state whether you will investigate or who you will ask\n",
    "    - Provide an estimated timeline for when you'll have more information or complete the task\n",
    "\n",
    "    When responding to event or conference invitations:\n",
    "    - Always acknowledge any mentioned deadlines (particularly registration deadlines)\n",
    "    - If workshops or specific topics are mentioned, ask for more specific details about them\n",
    "    - If discounts (group or early bird) are mentioned, explicitly request information about them\n",
    "    - Don't commit \n",
    "\n",
    "    When responding to collaboration or project-related requests:\n",
    "    - Acknowledge any existing work or materials mentioned (drafts, slides, documents, etc.)\n",
    "    - Explicitly mention reviewing these materials before or during the meeting\n",
    "    - When scheduling meetings, clearly state the specific day, date, and time proposed.\n",
    "\n",
    "    When responding to meeting scheduling requests:\n",
    "    - If the recipient is asking for a meeting commitment, verify availability for all time slots mentioned in the original email and then commit to one of the proposed times based on your availability by scheduling the meeting. Or, say you can't make it at the time proposed.\n",
    "    - If availability is asked for, then check your calendar for availability and send an email proposing multiple time options when available. Do NOT schedule meetings\n",
    "    - Mention the meeting duration in your response to confirm you've noted it correctly.\n",
    "    - Reference the meeting's purpose in your response.\n",
    "    </ Response Preferences >\n",
    "\n",
    "    < Calendar Preferences >\n",
    "    30 minute meetings are preferred, but 15 minute meetings are also acceptable.\n",
    "    Times later in the day are preferable.\n",
    "    </ Calendar Preferences >\n",
    "    \"\"\"\n",
    "\n",
    "    email = parse_email(state[\"email_input\"])\n",
    "    email_markdown = format_email_markdown(email[2], email[0], email[1], email[3])\n",
    "    email_request = f\"Please respond to the following email: {email_markdown}\"\n",
    "\n",
    "    prompt = [\n",
    "        SystemMessage(action_instructions.format(today=datetime.now().strftime(\"%Y-%m-%d\"))),\n",
    "        HumanMessage(content=email_request)\n",
    "    ]\n",
    "\n",
    "    return prompt + state[\"messages\"]\n",
    "\n",
    "# Nodes\n",
    "def reasoning_node(state: State):\n",
    "    \"\"\"LLM decides whether to call a tool or not\"\"\"\n",
    "    prompt = create_agent_prompt(state)\n",
    "    result = llm_with_tools.invoke(prompt)\n",
    "\n",
    "    return {\"messages\": [result]}"
   ]
  },
  {
   "cell_type": "markdown",
   "id": "9adc20f3",
   "metadata": {},
   "source": [
    "### Edges\n",
    "\n",
    "Now, we need to define a control flow that connects between our defined nodes, and that's where the concept of edges come in.\n",
    "\n",
    "**Edges are connections between nodes. They define the flow of the graph.**\n",
    "* **Normal edges** are deterministic and always go from one node to its defined target\n",
    "* **Conditional edges** are used to dynamically route between nodes, implemented as functions that return the next node to visit based upon some logic. \n",
    "\n",
    "In this case, we want a **conditional edge** from our subagent that determines whether to: \n",
    "- Invoke tools, or,\n",
    "- Route to the end if user query has been finished "
   ]
  },
  {
   "cell_type": "code",
   "execution_count": 10,
   "id": "bcf5f1a1",
   "metadata": {},
   "outputs": [],
   "source": [
    "from langgraph.graph import END, START\n",
    "\n",
    "def should_continue(state: State) -> Literal[\"Tools\", \"__end__\"]:\n",
    "    \"\"\"Route to Tools, or end if Done tool called\"\"\"\n",
    "    messages = state[\"messages\"]\n",
    "    last_message = messages[-1]\n",
    "    if last_message.tool_calls:\n",
    "        for tool_call in last_message.tool_calls: \n",
    "            if tool_call[\"name\"] == \"Done\":\n",
    "                return END\n",
    "            else:\n",
    "                return \"Tools\""
   ]
  },
  {
   "cell_type": "markdown",
   "id": "a0eb02dc",
   "metadata": {},
   "source": [
    "### Compile Graph!\n",
    "\n",
    "Now that we've defined our State and Nodes, let's put it all together and construct our react agent!"
   ]
  },
  {
   "cell_type": "code",
   "execution_count": 11,
   "id": "84dbec85",
   "metadata": {},
   "outputs": [
    {
     "data": {
      "image/png": "[encoded data removed]",
      "text/plain": [
       "<langgraph.graph.state.CompiledStateGraph object at 0x1205dbb60>"
      ]
     },
     "execution_count": 11,
     "metadata": {},
     "output_type": "execute_result"
    }
   ],
   "source": [
    "from langgraph.graph import StateGraph\n",
    "\n",
    "# Build workflow\n",
    "agent_builder = StateGraph(State)\n",
    "\n",
    "# Add nodes\n",
    "agent_builder.add_node(\"agent\", reasoning_node)\n",
    "agent_builder.add_node(\"tools\", tool_node)\n",
    "\n",
    "# Add edges to connect nodes\n",
    "agent_builder.add_edge(START, \"agent\")\n",
    "agent_builder.add_conditional_edges(\n",
    "    \"agent\",\n",
    "    should_continue,\n",
    "    {\n",
    "        # Name returned by should_continue : Name of next node to visit\n",
    "        \"Tools\": \"tools\",\n",
    "        END: END,\n",
    "    },\n",
    ")\n",
    "agent_builder.add_edge(\"tools\", \"agent\")\n",
    "\n",
    "# Compile the agent\n",
    "agent = agent_builder.compile(checkpointer=checkpointer, store=in_memory_store)\n",
    "agent"
   ]
  },
  {
   "cell_type": "markdown",
   "id": "94e3b043",
   "metadata": {},
   "source": [
    "### Testing\n",
    "Let's see how our agent responds to emails!"
   ]
  },
  {
   "cell_type": "code",
   "execution_count": 12,
   "id": "b8ca802a",
   "metadata": {},
   "outputs": [
    {
     "name": "stdout",
     "output_type": "stream",
     "text": [
      "Responding to email: \n",
      "\n",
      "\n",
      "**Subject**: Quarterly planning meeting\n",
      "**From**: Team Lead <teamlead@company.com>\n",
      "**To**: Robert Xu <Robert@company.com>\n",
      "\n",
      "Hi Robert,\n",
      "\n",
      "It's time for our quarterly planning session. I'd like to schedule a 90-minute meeting next week to discuss our roadmap for Q3.\n",
      "\n",
      "Could you let me know your availability for Monday or Wednesday? Ideally sometime between 10AM and 3PM.\n",
      "\n",
      "Looking forward to your input on the new feature priorities.\n",
      "\n",
      "Best,\n",
      "Team Lead\n",
      "\n",
      "---\n",
      "\n",
      "==================================\u001b[1m Ai Message \u001b[0m==================================\n",
      "Tool Calls:\n",
      "  check_calendar_availability (call_rSIpKwVWS111bjT9gpGmhBsB)\n",
      " Call ID: call_rSIpKwVWS111bjT9gpGmhBsB\n",
      "  Args:\n",
      "    day: 2025-10-20\n",
      "=================================\u001b[1m Tool Message \u001b[0m=================================\n",
      "Name: check_calendar_availability\n",
      "\n",
      "Available times on 2025-10-20: 9:00 AM, 2:00 PM, 4:00 PM\n",
      "==================================\u001b[1m Ai Message \u001b[0m==================================\n",
      "Tool Calls:\n",
      "  check_calendar_availability (call_Yn5aOyykFEYaMtZiJXSFdgWx)\n",
      " Call ID: call_Yn5aOyykFEYaMtZiJXSFdgWx\n",
      "  Args:\n",
      "    day: 2025-10-22\n",
      "=================================\u001b[1m Tool Message \u001b[0m=================================\n",
      "Name: check_calendar_availability\n",
      "\n",
      "Available times on 2025-10-22: 9:00 AM, 2:00 PM, 4:00 PM\n",
      "==================================\u001b[1m Ai Message \u001b[0m==================================\n",
      "Tool Calls:\n",
      "  write_email (call_nTQZmzEgd4KDar38mcw9kXVe)\n",
      " Call ID: call_nTQZmzEgd4KDar38mcw9kXVe\n",
      "  Args:\n",
      "    to: teamlead@company.com\n",
      "    subject: Re: Quarterly planning meeting\n",
      "    content: Hi Team Lead,\n",
      "\n",
      "Thank you for reaching out regarding the quarterly planning session. I am available for a 90-minute meeting on either Monday, October 20th or Wednesday, October 22nd. On both days, I have open slots starting at 2:00 PM, which would fit within your proposed window of 10AM to 3PM.\n",
      "\n",
      "Please let me know if 2:00 PM on either day works for you, or if you would prefer another time.\n",
      "\n",
      "Looking forward to discussing the Q3 roadmap and new feature priorities.\n",
      "\n",
      "Best regards,\n",
      "Robert\n",
      "=================================\u001b[1m Tool Message \u001b[0m=================================\n",
      "Name: write_email\n",
      "\n",
      "Email sent to teamlead@company.com with subject 'Re: Quarterly planning meeting' and content: Hi Team Lead,\n",
      "\n",
      "Thank you for reaching out regarding the quarterly planning session. I am available for a 90-minute meeting on either Monday, October 20th or Wednesday, October 22nd. On both days, I have open slots starting at 2:00 PM, which would fit within your proposed window of 10AM to 3PM.\n",
      "\n",
      "Please let me know if 2:00 PM on either day works for you, or if you would prefer another time.\n",
      "\n",
      "Looking forward to discussing the Q3 roadmap and new feature priorities.\n",
      "\n",
      "Best regards,\n",
      "Robert\n",
      "==================================\u001b[1m Ai Message \u001b[0m==================================\n",
      "Tool Calls:\n",
      "  Done (call_YtgW8bj2WDQbj8KIaqQlp4HW)\n",
      " Call ID: call_YtgW8bj2WDQbj8KIaqQlp4HW\n",
      "  Args:\n",
      "    done: True\n"
     ]
    }
   ],
   "source": [
    "import uuid\n",
    "thread_id = uuid.uuid4()\n",
    "\n",
    "config = {\"configurable\": {\"thread_id\": thread_id}}\n",
    "\n",
    "email_input = {\n",
    "    \"to\": \"Robert Xu <Robert@company.com>\",\n",
    "    \"author\": \"Team Lead <teamlead@company.com>\",\n",
    "    \"subject\": \"Quarterly planning meeting\",\n",
    "    \"email_thread\": \"Hi Robert,\\n\\nIt's time for our quarterly planning session. I'd like to schedule a 90-minute meeting next week to discuss our roadmap for Q3.\\n\\nCould you let me know your availability for Monday or Wednesday? Ideally sometime between 10AM and 3PM.\\n\\nLooking forward to your input on the new feature priorities.\\n\\nBest,\\nTeam Lead\"\n",
    "}\n",
    "\n",
    "result = agent.invoke({\"email_input\": email_input}, config=config)\n",
    "\n",
    "print(\"Responding to email: \")\n",
    "print(format_email_markdown(email_input[\"subject\"], email_input[\"author\"], email_input[\"to\"], email_input[\"email_thread\"]))\n",
    "\n",
    "for message in result[\"messages\"]:\n",
    "    message.pretty_print()"
   ]
  },
  {
   "cell_type": "markdown",
   "id": "971fa4b6",
   "metadata": {},
   "source": [
    "## Part 2: Using a Prebuilt\n",
    "\n",
    "The architecture we created for our email agent is a a common architecture known as a ReAct agent. This tool-calling format is very popular, so LangChain actually provides a prebuilt function to easily spin up ReAct agents.\n",
    "\n",
    "Let's reimplement our agent using the prebuilt!"
   ]
  },
  {
   "cell_type": "code",
   "execution_count": null,
   "id": "cc6d872c",
   "metadata": {},
   "outputs": [
    {
     "data": {
      "image/png": "[encoded data removed]",
      "text/plain": [
       "<langgraph.graph.state.CompiledStateGraph object at 0x120a2a5d0>"
      ]
     },
     "execution_count": 13,
     "metadata": {},
     "output_type": "execute_result"
    }
   ],
   "source": [
    "from langchain.agents import create_agent\n",
    "\n",
    "# Define the subagent \n",
    "email_prebuilt = create_agent(\n",
    "    model=llm, \n",
    "    tools=tools, \n",
    "    name=\"email_prebuilt\",\n",
    "    system_prompt=create_agent_prompt, \n",
    "    state_schema=State, \n",
    "    checkpointer=checkpointer, \n",
    "    store=in_memory_store\n",
    ")\n",
    "email_prebuilt"
   ]
  },
  {
   "cell_type": "markdown",
   "id": "8897672a",
   "metadata": {},
   "source": [
    "Let's go ahead and test our prebuilt!"
   ]
  },
  {
   "cell_type": "code",
   "execution_count": 14,
   "id": "0ed10322",
   "metadata": {},
   "outputs": [
    {
     "name": "stdout",
     "output_type": "stream",
     "text": [
      "Responding to email: \n",
      "\n",
      "\n",
      "**Subject**: Quarterly planning meeting\n",
      "**From**: Team Lead <teamlead@company.com>\n",
      "**To**: Robert Xu <Robert@company.com>\n",
      "\n",
      "Hi Robert,\n",
      "\n",
      "It's time for our quarterly planning session. I'd like to schedule a 90-minute meeting next week to discuss our roadmap for Q3.\n",
      "\n",
      "Could you let me know your availability for Monday or Wednesday? Ideally sometime between 10AM and 3PM.\n",
      "\n",
      "Looking forward to your input on the new feature priorities.\n",
      "\n",
      "Best,\n",
      "Team Lead\n",
      "\n",
      "---\n",
      "\n",
      "==================================\u001b[1m Ai Message \u001b[0m==================================\n",
      "Name: email_prebuilt\n",
      "Tool Calls:\n",
      "  check_calendar_availability (call_nF5AwOfkNrjQhzNZV4EeGG4n)\n",
      " Call ID: call_nF5AwOfkNrjQhzNZV4EeGG4n\n",
      "  Args:\n",
      "    day: 2025-10-20\n",
      "  check_calendar_availability (call_UBuywqngDtuz3OAcgJxQLQVd)\n",
      " Call ID: call_UBuywqngDtuz3OAcgJxQLQVd\n",
      "  Args:\n",
      "    day: 2025-10-22\n",
      "=================================\u001b[1m Tool Message \u001b[0m=================================\n",
      "Name: check_calendar_availability\n",
      "\n",
      "Available times on 2025-10-20: 9:00 AM, 2:00 PM, 4:00 PM\n",
      "=================================\u001b[1m Tool Message \u001b[0m=================================\n",
      "Name: check_calendar_availability\n",
      "\n",
      "Available times on 2025-10-22: 9:00 AM, 2:00 PM, 4:00 PM\n",
      "==================================\u001b[1m Ai Message \u001b[0m==================================\n",
      "Name: email_prebuilt\n",
      "Tool Calls:\n",
      "  write_email (call_qSeSYCQoebHby36zyGQdrnJt)\n",
      " Call ID: call_qSeSYCQoebHby36zyGQdrnJt\n",
      "  Args:\n",
      "    to: teamlead@company.com\n",
      "    subject: Re: Quarterly planning meeting\n",
      "    content: Hi Team Lead,\n",
      "\n",
      "Thank you for reaching out to schedule the quarterly planning session. I am available for a 90-minute meeting next week on either Monday, October 20th or Wednesday, October 22nd, with open slots at 2:00 PM on both days. Please let me know if either of these times works for you, or if you have another preference within the 10AM–3PM window.\n",
      "\n",
      "Looking forward to discussing the Q3 roadmap and new feature priorities.\n",
      "\n",
      "Best regards,\n",
      "Robert\n",
      "=================================\u001b[1m Tool Message \u001b[0m=================================\n",
      "Name: write_email\n",
      "\n",
      "Email sent to teamlead@company.com with subject 'Re: Quarterly planning meeting' and content: Hi Team Lead,\n",
      "\n",
      "Thank you for reaching out to schedule the quarterly planning session. I am available for a 90-minute meeting next week on either Monday, October 20th or Wednesday, October 22nd, with open slots at 2:00 PM on both days. Please let me know if either of these times works for you, or if you have another preference within the 10AM–3PM window.\n",
      "\n",
      "Looking forward to discussing the Q3 roadmap and new feature priorities.\n",
      "\n",
      "Best regards,\n",
      "Robert\n",
      "==================================\u001b[1m Ai Message \u001b[0m==================================\n",
      "Name: email_prebuilt\n",
      "Tool Calls:\n",
      "  Done (call_7kUjpAfu08bLVLjst7sz4KXe)\n",
      " Call ID: call_7kUjpAfu08bLVLjst7sz4KXe\n",
      "  Args:\n",
      "    done: True\n",
      "=================================\u001b[1m Tool Message \u001b[0m=================================\n",
      "Name: Done\n",
      "\n",
      "done=True\n",
      "==================================\u001b[1m Ai Message \u001b[0m==================================\n",
      "Name: email_prebuilt\n",
      "\n",
      "I've responded to the team lead, providing your availability for a 90-minute quarterly planning meeting next week. I proposed 2:00 PM on either Monday, October 20th or Wednesday, October 22nd, as those are your available slots within the requested timeframe. The team lead will confirm which time works best.\n"
     ]
    }
   ],
   "source": [
    "import uuid\n",
    "thread_id = uuid.uuid4()\n",
    "\n",
    "config = {\"configurable\": {\"thread_id\": thread_id}}\n",
    "\n",
    "email_input = {\n",
    "    \"to\": \"Robert Xu <Robert@company.com>\",\n",
    "    \"author\": \"Team Lead <teamlead@company.com>\",\n",
    "    \"subject\": \"Quarterly planning meeting\",\n",
    "    \"email_thread\": \"Hi Robert,\\n\\nIt's time for our quarterly planning session. I'd like to schedule a 90-minute meeting next week to discuss our roadmap for Q3.\\n\\nCould you let me know your availability for Monday or Wednesday? Ideally sometime between 10AM and 3PM.\\n\\nLooking forward to your input on the new feature priorities.\\n\\nBest,\\nTeam Lead\"\n",
    "}\n",
    "\n",
    "result = email_prebuilt.invoke({\"email_input\": email_input}, config=config)\n",
    "\n",
    "print(\"Responding to email: \")\n",
    "print(format_email_markdown(email_input[\"subject\"], email_input[\"author\"], email_input[\"to\"], email_input[\"email_thread\"]))\n",
    "\n",
    "for message in result[\"messages\"]:\n",
    "    message.pretty_print()"
   ]
  },
  {
   "cell_type": "markdown",
   "id": "d286543d",
   "metadata": {},
   "source": [
    "## Part 3: Human-in-the-Loop"
   ]
  },
  {
   "cell_type": "markdown",
   "id": "7f2d178b",
   "metadata": {},
   "source": [
    "![Arch](../images/email_agent.png)"
   ]
  },
  {
   "cell_type": "markdown",
   "id": "154edaa3",
   "metadata": {},
   "source": [
    "In many agents, high reliability agents require human approval or feedback before taking action. In our case, our email agent should determine whether to ignore or respond to an email, but it might not always be able to make that decision on its own.\n",
    "\n",
    "As such, we will allow the email agent to ask the human for help when dealing with emails. We'll also demonstrate how to bring this functionality into a more complex workflow involving multiple agentic steps.\n",
    "\n",
    "We will be utilizing **human-in-the-loop** to provide the LLM human feedback on whether to ignore or respond to an email."
   ]
  },
  {
   "cell_type": "markdown",
   "id": "8c01c70a",
   "metadata": {},
   "source": [
    "### Adding Triage Capabilities\n",
    "\n",
    "First, let's add a new step in our workflow. We want the agent to be able to triage emails and decide whether they are worth responding to. To do this, we'll add a new \"triage\" node.\n",
    "\n",
    "We'll start by defining a schema for our LLM to adhere to with it's output."
   ]
  },
  {
   "cell_type": "code",
   "execution_count": 15,
   "id": "ed892fb8",
   "metadata": {},
   "outputs": [],
   "source": [
    "from pydantic import BaseModel, Field\n",
    "\n",
    "class RouterSchema(BaseModel):\n",
    "    \"\"\"Analyze the unread email and route it according to its content.\"\"\"\n",
    "\n",
    "    reasoning: str = Field(\n",
    "        description=\"Step-by-step reasoning behind the classification.\"\n",
    "    )\n",
    "    classification: Literal[\"ignore\", \"respond\", \"notify\"] = Field(\n",
    "        description=\"The classification of an email: 'ignore' for irrelevant emails, \"\n",
    "        \"'notify' for important information that doesn't need a response, \"\n",
    "        \"'respond' for emails that need a reply\",\n",
    "    )\n",
    "\n",
    "llm_router = llm.with_structured_output(RouterSchema)"
   ]
  },
  {
   "cell_type": "markdown",
   "id": "fb61a5c2",
   "metadata": {},
   "source": [
    "We'll then create the triage node itself, alongside its prompt."
   ]
  },
  {
   "cell_type": "code",
   "execution_count": 16,
   "id": "4085c102",
   "metadata": {},
   "outputs": [],
   "source": [
    "from langchain_core.messages import SystemMessage, HumanMessage\n",
    "\n",
    "def create_triage_prompt(state: State):\n",
    "    loaded_memory = \"\"\n",
    "    if \"loaded_memory\" in state:\n",
    "        loaded_memory = state[\"loaded_memory\"]\n",
    "\n",
    "    triage_instructions = f\"\"\"\n",
    "    < Role >\n",
    "    Your role is to triage incoming emails based upon instructs and background information below.\n",
    "    </ Role >\n",
    "\n",
    "    < Background >\n",
    "    I'm Robert, a software engineer at LangChain.\n",
    "    </ Background >\n",
    "\n",
    "    < Instructions >\n",
    "    Categorize each email into one of three categories:\n",
    "    1. IGNORE - Emails that are not worth responding to or tracking\n",
    "    2. NOTIFY - Important information that worth notification but doesn't require a response\n",
    "    3. RESPOND - Emails that need a direct response\n",
    "    Classify the below email into one of these categories.\n",
    "    </ Instructions >\n",
    "\n",
    "    < Rules >\n",
    "    Emails that are not worth responding to:\n",
    "    - Marketing newsletters and promotional emails\n",
    "    - Spam or suspicious emails\n",
    "    - CC'd on FYI threads with no direct questions\n",
    "\n",
    "    There are also other things that should be known about, but don't require an email response. For these, you should notify (using the `notify` response). Examples of this include:\n",
    "    - Team member out sick or on vacation\n",
    "    - Build system notifications or deployments\n",
    "    - Project status updates without action items\n",
    "    - Important company announcements\n",
    "    - FYI emails that contain relevant information for current projects\n",
    "    - HR Department deadline reminders\n",
    "    - GitHub notifications\n",
    "\n",
    "    Emails that are worth responding to:\n",
    "    - Direct questions from team members requiring expertise\n",
    "    - Meeting requests requiring confirmation\n",
    "    - Critical bug reports related to team's projects\n",
    "    - Requests from management requiring acknowledgment\n",
    "    - Client inquiries about project status or features\n",
    "    - Technical questions about documentation, code, or APIs (especially questions about missing endpoints or features)\n",
    "    - Personal reminders related to family (wife / daughter)\n",
    "    - Personal reminder related to self-care (doctor appointments, etc)\n",
    "    </ Rules >\n",
    "\n",
    "    {loaded_memory}\n",
    "    \"\"\"\n",
    "    author, to, subject, email_thread = parse_email(state[\"email_input\"])\n",
    "    email_markdown = format_email_markdown(subject, author, to, email_thread)\n",
    "    email_request = f\"Please determine how to handle the below email thread: {email_markdown}\"\n",
    "    prompt = [\n",
    "        SystemMessage(triage_instructions),\n",
    "        HumanMessage(content=email_request)\n",
    "    ] + state[\"messages\"]\n",
    "    return prompt\n",
    "\n",
    "def triage_router(state: State):\n",
    "    \"\"\"\n",
    "    Analyze email content to decide if we should respond, notify, or ignore.\n",
    "    \"\"\"\n",
    "    prompt = create_triage_prompt(state)\n",
    "    # Run the router LLM\n",
    "    result = llm_router.invoke(prompt)\n",
    "\n",
    "    # Decision\n",
    "    classification = result.classification\n",
    "    return  { \"classification_decision\": classification }\n"
   ]
  },
  {
   "cell_type": "markdown",
   "id": "9d9dda34",
   "metadata": {},
   "source": [
    "We'll also create a node to add human feedback when the agent decides to `notify` the human. These are emails the agent classifies as important, but aren't worthy of a response. We'll have the human user validate whether or not these important emails actually DO deserve a response."
   ]
  },
  {
   "cell_type": "code",
   "execution_count": 17,
   "id": "12bbd467",
   "metadata": {},
   "outputs": [],
   "source": [
    "from langgraph.types import interrupt\n",
    "\n",
    "# Node\n",
    "def human_input(state: State):\n",
    "    \"\"\" Node to incoporate human feedback \"\"\"\n",
    "    author, to, subject, email_thread = parse_email(state[\"email_input\"])\n",
    "    email_markdown = format_email_markdown(subject, author, to, email_thread)\n",
    "    user_input = interrupt(f\"Please determine whether the following email deserves a response (Y/n): {email_markdown}\")\n",
    "\n",
    "    log = \"Email originally marked as notify, but user flagged it as a scneario where a response is warranted.\"\n",
    "    if str(user_input).lower() == \"y\":\n",
    "        return { \"classification_decision\": \"respond\", \"messages\": [HumanMessage(content=log)]}\n",
    "    else:\n",
    "        return { \"classification_decision\": \"ignore\" }\n"
   ]
  },
  {
   "cell_type": "markdown",
   "id": "ad940249",
   "metadata": {},
   "source": [
    "Finally, we'll define the new edges that we'll need. We'll define an edge that triggers Human In the Loop if the triage step returns a `notify` classification, as well as an edge from our human feedback step to the rest of the agent."
   ]
  },
  {
   "cell_type": "code",
   "execution_count": 18,
   "id": "5c04acc6",
   "metadata": {},
   "outputs": [],
   "source": [
    "def handle_classification(state: State):\n",
    "    \"\"\" Trigger human review if the email is classified as notify \"\"\"\n",
    "    if state[\"classification_decision\"] == \"notify\":\n",
    "        return \"human_input\"\n",
    "    elif state[\"classification_decision\"] == \"respond\":\n",
    "        return \"email_agent\"\n",
    "    else:\n",
    "        return END\n",
    "\n",
    "\n",
    "def handle_human_input(state: State):\n",
    "    \"\"\" Handle human input \"\"\"\n",
    "    if state[\"classification_decision\"] == \"respond\":\n",
    "        return \"email_agent\"\n",
    "    else:\n",
    "        return END\n"
   ]
  },
  {
   "cell_type": "markdown",
   "id": "30a1ea48",
   "metadata": {},
   "source": [
    "Let's compile our agent!"
   ]
  },
  {
   "cell_type": "code",
   "execution_count": 19,
   "id": "5cd80747",
   "metadata": {},
   "outputs": [
    {
     "data": {
      "image/png": "[encoded data removed]",
      "text/plain": [
       "<langgraph.graph.state.CompiledStateGraph object at 0x120da3890>"
      ]
     },
     "execution_count": 19,
     "metadata": {},
     "output_type": "execute_result"
    }
   ],
   "source": [
    "email_hitl_workflow = StateGraph(State)\n",
    "email_hitl_workflow.add_node(\"triage\", triage_router)\n",
    "email_hitl_workflow.add_node(\"human_input\", human_input)\n",
    "email_hitl_workflow.add_node(\"email_agent\", agent)\n",
    "email_hitl_workflow.add_edge(START, \"triage\")\n",
    "email_hitl_workflow.add_conditional_edges(\n",
    "    \"triage\",\n",
    "    handle_classification,\n",
    "    {\n",
    "        \"human_input\": \"human_input\",\n",
    "        \"email_agent\": \"email_agent\",\n",
    "        END: END,\n",
    "    },\n",
    ")\n",
    "email_hitl_workflow.add_conditional_edges(\n",
    "    \"human_input\",\n",
    "    handle_human_input,\n",
    "    {\n",
    "        \"email_agent\": \"email_agent\",\n",
    "        END: END,\n",
    "    },\n",
    ")\n",
    "email_hitl = email_hitl_workflow.compile(checkpointer=checkpointer, store=in_memory_store)\n",
    "email_hitl\n",
    "\n"
   ]
  },
  {
   "cell_type": "markdown",
   "id": "7063f9b8",
   "metadata": {},
   "source": [
    "### Testing\n",
    "\n",
    "Let's invoke our new agent!"
   ]
  },
  {
   "cell_type": "code",
   "execution_count": 20,
   "id": "91a2fe47",
   "metadata": {},
   "outputs": [
    {
     "name": "stdout",
     "output_type": "stream",
     "text": [
      "Classification decision:  notify\n",
      "----- Human assistance required -----\n",
      "Please determine whether the following email deserves a response (Y/n): \n",
      "\n",
      "**Subject**: Scheduled maintenance - database downtime\n",
      "**From**: System Admin <sysadmin@company.com>\n",
      "**To**: Robert Xu <Robert@company.com>\n",
      "\n",
      "Hi Robert,\n",
      "\n",
      "This is a reminder that we'll be performing scheduled maintenance on the production database tonight from 2AM to 4AM EST. During this time, all database services will be unavailable.\n",
      "\n",
      "Please plan your work accordingly and ensure no critical deployments are scheduled during this window.\n",
      "\n",
      "Thanks,\n",
      "System Admin Team\n",
      "\n",
      "---\n",
      "\n"
     ]
    }
   ],
   "source": [
    "import uuid\n",
    "thread_id = uuid.uuid4()\n",
    "\n",
    "config = {\"configurable\": {\"thread_id\": thread_id}}\n",
    "\n",
    "email_input = {\n",
    "    \"to\": \"Robert Xu <Robert@company.com>\",\n",
    "    \"author\": \"System Admin <sysadmin@company.com>\",\n",
    "    \"subject\": \"Scheduled maintenance - database downtime\",\n",
    "    \"email_thread\": \"Hi Robert,\\n\\nThis is a reminder that we'll be performing scheduled maintenance on the production database tonight from 2AM to 4AM EST. During this time, all database services will be unavailable.\\n\\nPlease plan your work accordingly and ensure no critical deployments are scheduled during this window.\\n\\nThanks,\\nSystem Admin Team\"\n",
    "}\n",
    "\n",
    "result = email_hitl.invoke({\"email_input\": email_input}, config=config)\n",
    "\n",
    "if \"__interrupt__\" in result:\n",
    "    print(\"Classification decision: \", result[\"classification_decision\"])\n",
    "    print(\"----- Human assistance required -----\")\n",
    "    print(result[\"__interrupt__\"][0].value)\n",
    "else:\n",
    "    for message in result[\"messages\"]:\n",
    "        message.pretty_print()\n"
   ]
  },
  {
   "cell_type": "code",
   "execution_count": 21,
   "id": "097c9f36",
   "metadata": {},
   "outputs": [
    {
     "name": "stdout",
     "output_type": "stream",
     "text": [
      "================================\u001b[1m Human Message \u001b[0m=================================\n",
      "\n",
      "Email originally marked as notify, but user flagged it as a scneario where a response is warranted.\n",
      "==================================\u001b[1m Ai Message \u001b[0m==================================\n",
      "Tool Calls:\n",
      "  write_email (call_epPG5qHttQ7nJORuLMphSdTv)\n",
      " Call ID: call_epPG5qHttQ7nJORuLMphSdTv\n",
      "  Args:\n",
      "    to: sysadmin@company.com\n",
      "    subject: Re: Scheduled maintenance - database downtime\n",
      "    content: Hello System Admin Team,\n",
      "\n",
      "Thank you for the reminder regarding the scheduled maintenance window tonight from 2AM to 4AM EST. I will ensure that no critical deployments are planned during this period and will notify my team accordingly.\n",
      "\n",
      "Please let me know if there are any changes to the maintenance schedule.\n",
      "\n",
      "Best regards,\n",
      "Robert Xu\n",
      "=================================\u001b[1m Tool Message \u001b[0m=================================\n",
      "Name: write_email\n",
      "\n",
      "Email sent to sysadmin@company.com with subject 'Re: Scheduled maintenance - database downtime' and content: Hello System Admin Team,\n",
      "\n",
      "Thank you for the reminder regarding the scheduled maintenance window tonight from 2AM to 4AM EST. I will ensure that no critical deployments are planned during this period and will notify my team accordingly.\n",
      "\n",
      "Please let me know if there are any changes to the maintenance schedule.\n",
      "\n",
      "Best regards,\n",
      "Robert Xu\n",
      "==================================\u001b[1m Ai Message \u001b[0m==================================\n",
      "Tool Calls:\n",
      "  Done (call_XggGsa2LTD2MVRMMPWzDkiFn)\n",
      " Call ID: call_XggGsa2LTD2MVRMMPWzDkiFn\n",
      "  Args:\n",
      "    done: True\n"
     ]
    }
   ],
   "source": [
    "from langgraph.types import Command\n",
    "\n",
    "result = email_hitl.invoke(Command(resume=\"y\"), config=config)\n",
    "\n",
    "for message in result[\"messages\"]:\n",
    "    message.pretty_print()"
   ]
  },
  {
   "cell_type": "markdown",
   "id": "b6b4271d",
   "metadata": {},
   "source": [
    "## [Optional] Part 4: Memory\n",
    "\n",
    "Now that we have created an agent workflow that includes verification and execution, let's take it a step further. \n",
    "\n",
    "**Long term memory** lets you store and recall information between conversations. We have already initialized a long term memory store. \n",
    "\n",
    "\n",
    "![memory](../images/email_agent_memory.png)\n",
    "\n",
    "In this step, we will add 2 nodes: \n",
    "- **load_memory** node that loads from the long term memory store\n",
    "- **create_memory** node that saves any music interests that the customer has shared about themselves "
   ]
  },
  {
   "cell_type": "markdown",
   "id": "854d41db",
   "metadata": {},
   "source": [
    "Let's start with load memory. This will allow us to personalize what emails we want our agent to respond to, without hard-coding it into the prompt."
   ]
  },
  {
   "cell_type": "code",
   "execution_count": 22,
   "id": "304e3543",
   "metadata": {},
   "outputs": [],
   "source": [
    "from langgraph.store.base import BaseStore\n",
    "from langgraph.types import RunnableConfig\n",
    "\n",
    "# helper function to structure memory \n",
    "def format_user_memory(user_data):\n",
    "    \"\"\"Formats music preferences from users, if available.\"\"\"\n",
    "    profile = user_data['memory']\n",
    "    result = \"<Additional Rules>\\n\"\n",
    "    result += \"The following are custom rules the user has noted to be important. Please prioritize these rules:\"\n",
    "    if hasattr(profile, 'response_preferences') and profile.response_preferences:\n",
    "        result += f\"{'\\n- '.join(profile.response_preferences)}\"\n",
    "    result += \"\\n</Additional Rules>\"\n",
    "    \n",
    "    return result.strip()\n",
    "\n",
    "# Node\n",
    "def load_memory(state: State, store: BaseStore):\n",
    "    \"\"\"Loads music preferences from users, if available.\"\"\"\n",
    "    \n",
    "    namespace = (\"memory_profile\", \"Robert\")\n",
    "    existing_memory = store.get(namespace, \"user_memory\")\n",
    "    formatted_memory = \"\"\n",
    "    if existing_memory and existing_memory.value:\n",
    "        formatted_memory = format_user_memory(existing_memory.value)\n",
    "\n",
    "    return {\"loaded_memory\" : formatted_memory}"
   ]
  },
  {
   "cell_type": "markdown",
   "id": "66e377b7",
   "metadata": {},
   "source": [
    "Next, we'll make our create_memory node. We'll use structured output to ensure all our memories are in the same format."
   ]
  },
  {
   "cell_type": "code",
   "execution_count": 23,
   "id": "8808d6a2",
   "metadata": {},
   "outputs": [],
   "source": [
    "# User profile structure for creating memory\n",
    "from typing import List\n",
    "\n",
    "class UserProfile(BaseModel):\n",
    "    response_preferences: List[str] = Field(\n",
    "        description=\"A list of rules describing what types of email the user would like to respond to\"\n",
    "    )"
   ]
  },
  {
   "cell_type": "code",
   "execution_count": 24,
   "id": "9aecc520",
   "metadata": {},
   "outputs": [],
   "source": [
    "create_memory_prompt = \"\"\"You are an expert analyst that is observing a conversation that has taken place between a customer and an executive assistant. The executive assistant helps the customer handle their emails.\n",
    "You are tasked with analyzing the interaction that has taken place between the customer and the executive assistant, and updating the memory profile associated with the customer. \n",
    "You specifically care about saving any music interest the customer has shared about themselves, particularly their music preferences to their memory profile.\n",
    "\n",
    "<core_instructions>\n",
    "1. The memory profile may be empty. If it's empty, you should ALWAYS create a new memory profile for the customer.\n",
    "2. You should identify what characteristics about the email resulted in the user wanting to respond to it.\n",
    "3. For each key in the memory profile, if there is no new information, do NOT update the value - keep the existing value unchanged.\n",
    "4. ONLY update the values in the memory profile if there is new information.\n",
    "</core_instructions>\n",
    "\n",
    "<expected_format>\n",
    "The customer's memory profile should have the following fields:\n",
    "- response_preferences: a list of rules describing what types of email the user would like to respond to\n",
    "\n",
    "IMPORTANT: ENSURE your response is an object with these fields.\n",
    "</expected_format>\n",
    "\n",
    "\n",
    "<important_context>\n",
    "**IMPORTANT CONTEXT BELOW**\n",
    "To help you with this task, I have attached the conversation that has taken place between the customer and the customer support assistant below, as well as the existing memory profile associated with the customer that you should either update or create. \n",
    "\n",
    "The conversation between the customer and the customer support assistant that you should analyze is as follows:\n",
    "{conversation}\n",
    "\n",
    "The existing memory profile associated with the customer that you should either update or create based on the conversation is as follows:\n",
    "{memory_profile}\n",
    "\n",
    "</important_context>\n",
    "\n",
    "Reminder: Take a deep breath and think carefully before responding.\n",
    "\"\"\"\n",
    "\n",
    "# Node\n",
    "def create_memory(state: State, store: BaseStore):\n",
    "    namespace = (\"memory_profile\", \"Robert\")\n",
    "    formatted_memory = state[\"loaded_memory\"]\n",
    "\n",
    "    email_input = state[\"email_input\"]\n",
    "    formatted_email = format_email_markdown(email_input[\"subject\"], email_input[\"author\"], email_input[\"to\"], email_input[\"email_thread\"])\n",
    "    initial_message = f\"Initial email received: {formatted_email}\\n\"\n",
    "    conversation = HumanMessage(content=initial_message) + state[\"messages\"]\n",
    "\n",
    "    formatted_system_message = SystemMessage(content=create_memory_prompt.format(conversation=conversation, memory_profile=formatted_memory))\n",
    "    updated_memory = llm.with_structured_output(UserProfile).invoke([formatted_system_message])\n",
    "    key = \"user_memory\"\n",
    "    store.put(namespace, key, {\"memory\": updated_memory})"
   ]
  },
  {
   "cell_type": "markdown",
   "id": "6161182a",
   "metadata": {},
   "source": [
    "Let's add these nodes to our graph. We'll only create a new memory when the user has offered feedback. In other words, we'll only create a new memory when the user has decided to respond to an email originally marked as \"notify only\"."
   ]
  },
  {
   "cell_type": "code",
   "execution_count": 25,
   "id": "9926d8b9",
   "metadata": {},
   "outputs": [],
   "source": [
    "def should_create_memory(state: State):\n",
    "    \"\"\" Only create a new memory if the user has decided to respond to an email \"\"\"\n",
    "    messages = state[\"messages\"]\n",
    "\n",
    "    correction = \"Email originally marked as notify, but user flagged it as a scneario where a response is warranted.\"\n",
    "    for message in messages:\n",
    "        if message.type == \"human\" and correction in message.content:\n",
    "            return \"create_memory\"\n",
    "\n",
    "    return END\n"
   ]
  },
  {
   "cell_type": "code",
   "execution_count": 26,
   "id": "d22333cb",
   "metadata": {},
   "outputs": [
    {
     "data": {
      "image/png": "[encoded data removed]",
      "text/plain": [
       "<langgraph.graph.state.CompiledStateGraph object at 0x120d82fd0>"
      ]
     },
     "execution_count": 26,
     "metadata": {},
     "output_type": "execute_result"
    }
   ],
   "source": [
    "email_memory_workflow = StateGraph(State)\n",
    "email_memory_workflow.add_node(\"triage\", triage_router)\n",
    "email_memory_workflow.add_node(\"human_input\", human_input)\n",
    "email_memory_workflow.add_node(\"email_agent\", agent)\n",
    "\n",
    "email_memory_workflow.add_node(\"load_memory\", load_memory)\n",
    "email_memory_workflow.add_node(\"create_memory\", create_memory)\n",
    "\n",
    "email_memory_workflow.add_edge(START, \"load_memory\")\n",
    "email_memory_workflow.add_edge(\"load_memory\", \"triage\")\n",
    "\n",
    "\n",
    "email_memory_workflow.add_conditional_edges(\n",
    "    \"triage\",\n",
    "    handle_classification,\n",
    "    {\n",
    "        \"human_input\": \"human_input\",\n",
    "        \"email_agent\": \"email_agent\",\n",
    "        END: END,\n",
    "    },\n",
    ")\n",
    "email_memory_workflow.add_conditional_edges(\n",
    "    \"human_input\",\n",
    "    handle_human_input,\n",
    "    {\n",
    "        \"email_agent\": \"email_agent\",\n",
    "        END: END,\n",
    "    },\n",
    ")\n",
    "email_memory_workflow.add_conditional_edges(\n",
    "    \"email_agent\",\n",
    "    should_create_memory,\n",
    "    {\n",
    "        \"create_memory\": \"create_memory\",\n",
    "        END: END,\n",
    "    },\n",
    ")\n",
    "\n",
    "email_agent_memory = email_memory_workflow.compile(checkpointer=checkpointer, store=in_memory_store)\n",
    "email_agent_memory"
   ]
  },
  {
   "cell_type": "code",
   "execution_count": 27,
   "id": "2ab72aec",
   "metadata": {},
   "outputs": [
    {
     "name": "stdout",
     "output_type": "stream",
     "text": [
      "Responding to email: \n",
      "\n",
      "\n",
      "**Subject**: Scheduled maintenance - database downtime\n",
      "**From**: System Admin <sysadmin@company.com>\n",
      "**To**: Robert Xu <Robert@company.com>\n",
      "\n",
      "Hi Robert,\n",
      "\n",
      "This is a reminder that we'll be performing scheduled maintenance on the production database tonight from 2AM to 4AM EST. During this time, all database services will be unavailable.\n",
      "\n",
      "Please plan your work accordingly and ensure no critical deployments are scheduled during this window.\n",
      "\n",
      "Thanks,\n",
      "System Admin Team\n",
      "\n",
      "---\n",
      "\n",
      "================================\u001b[1m Human Message \u001b[0m=================================\n",
      "\n",
      "Email originally marked as notify, but user flagged it as a scneario where a response is warranted.\n",
      "==================================\u001b[1m Ai Message \u001b[0m==================================\n",
      "Tool Calls:\n",
      "  write_email (call_TxnznkznQknQHcfM5Q2N9uhX)\n",
      " Call ID: call_TxnznkznQknQHcfM5Q2N9uhX\n",
      "  Args:\n",
      "    to: sysadmin@company.com\n",
      "    subject: Re: Scheduled maintenance - database downtime\n",
      "    content: Hello,\n",
      "\n",
      "Thank you for the reminder regarding the scheduled maintenance on the production database tonight from 2AM to 4AM EST. I will ensure that no critical deployments are planned during this window and will adjust my work accordingly.\n",
      "\n",
      "Please let me know if there are any changes to the maintenance schedule.\n",
      "\n",
      "Best regards,\n",
      "Robert\n",
      "=================================\u001b[1m Tool Message \u001b[0m=================================\n",
      "Name: write_email\n",
      "\n",
      "Email sent to sysadmin@company.com with subject 'Re: Scheduled maintenance - database downtime' and content: Hello,\n",
      "\n",
      "Thank you for the reminder regarding the scheduled maintenance on the production database tonight from 2AM to 4AM EST. I will ensure that no critical deployments are planned during this window and will adjust my work accordingly.\n",
      "\n",
      "Please let me know if there are any changes to the maintenance schedule.\n",
      "\n",
      "Best regards,\n",
      "Robert\n",
      "==================================\u001b[1m Ai Message \u001b[0m==================================\n",
      "Tool Calls:\n",
      "  Done (call_BGkJ6LGnZqEyOnIoeSRTk14F)\n",
      " Call ID: call_BGkJ6LGnZqEyOnIoeSRTk14F\n",
      "  Args:\n",
      "    done: True\n"
     ]
    }
   ],
   "source": [
    "import uuid\n",
    "thread_id = uuid.uuid4()\n",
    "\n",
    "config = {\"configurable\": {\"thread_id\": thread_id}}\n",
    "\n",
    "email_input = {\n",
    "    \"to\": \"Robert Xu <Robert@company.com>\",\n",
    "    \"author\": \"System Admin <sysadmin@company.com>\",\n",
    "    \"subject\": \"Scheduled maintenance - database downtime\",\n",
    "    \"email_thread\": \"Hi Robert,\\n\\nThis is a reminder that we'll be performing scheduled maintenance on the production database tonight from 2AM to 4AM EST. During this time, all database services will be unavailable.\\n\\nPlease plan your work accordingly and ensure no critical deployments are scheduled during this window.\\n\\nThanks,\\nSystem Admin Team\"\n",
    "}\n",
    "\n",
    "result = email_agent_memory.invoke({\"email_input\": email_input}, config=config)\n",
    "result = email_agent_memory.invoke(Command(resume=\"y\"), config=config)\n",
    "\n",
    "\n",
    "print(\"Responding to email: \")\n",
    "print(format_email_markdown(email_input[\"subject\"], email_input[\"author\"], email_input[\"to\"], email_input[\"email_thread\"]))\n",
    "\n",
    "for message in result[\"messages\"]:\n",
    "    message.pretty_print()\n"
   ]
  },
  {
   "cell_type": "markdown",
   "id": "b91e4b9d",
   "metadata": {},
   "source": [
    "Let's check out what our agent stored in memory"
   ]
  },
  {
   "cell_type": "code",
   "execution_count": 28,
   "id": "ea3fbb98",
   "metadata": {},
   "outputs": [
    {
     "name": "stdout",
     "output_type": "stream",
     "text": [
      "['The user would like to respond to operational or system notification emails (such as scheduled maintenance notices) when they require acknowledgment, confirmation of actions to be taken, or when the user feels it is important to communicate awareness and readiness to the sender.']\n"
     ]
    }
   ],
   "source": [
    "user = \"Robert\"\n",
    "namespace = (\"memory_profile\", user)\n",
    "memory = in_memory_store.get(namespace, \"user_memory\").value\n",
    "\n",
    "saved_preferences = memory.get(\"memory\").response_preferences\n",
    "\n",
    "print(saved_preferences)"
   ]
  }
 ],
 "metadata": {
  "kernelspec": {
   "display_name": ".venv",
   "language": "python",
   "name": "python3"
  },
  "language_info": {
   "codemirror_mode": {
    "name": "ipython",
    "version": 3
   },
   "file_extension": ".py",
   "mimetype": "text/x-python",
   "name": "python",
   "nbconvert_exporter": "python",
   "pygments_lexer": "ipython3",
   "version": "3.13.4"
  }
 },
 "nbformat": 4,
 "nbformat_minor": 5
}
