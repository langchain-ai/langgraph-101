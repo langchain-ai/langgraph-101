{
 "cells": [
  {
   "cell_type": "markdown",
   "metadata": {},
   "source": [
    "# LangGraph 101: Building Your First Agent\n",
    "\n",
    "Welcome to LangGraph 101! This notebook will walk you through the core concepts of building agents with LangChain and LangGraph.\n",
    "\n",
    "**What you'll learn:**\n",
    "- How to interact with language models\n",
    "- Working with messages and conversation\n",
    "- Adding tools to extend LLM capabilities\n",
    "- Building an agent that can reason and act\n",
    "- Adding memory to maintain context\n",
    "- Streaming responses for better UX\n",
    "<br> \n",
    "<br> \n",
    "---\n",
    "<br> \n",
    "\n",
    "> **Note:** This tutorial uses LangChain v1 (alpha), which provides the easiest way to start building with LLMs. LangChain agents are built on top of LangGraph, providing durable execution, streaming, human-in-the-loop, and persistence out of the box."
   ]
  },
  {
   "cell_type": "markdown",
   "metadata": {},
   "source": [
    "## Part 0: Setup & Installation\n",
    "\n",
    "First, let's install the necessary packages and set up our environment."
   ]
  },
  {
   "cell_type": "code",
   "execution_count": 19,
   "metadata": {},
   "outputs": [],
   "source": [
    "# Install required packages\n",
    "# !pip install --pre -U langchain langchain-anthropic langchain-openai python-dotenv"
   ]
  },
  {
   "cell_type": "code",
   "execution_count": 20,
   "metadata": {},
   "outputs": [
    {
     "data": {
      "text/plain": [
       "True"
      ]
     },
     "execution_count": 20,
     "metadata": {},
     "output_type": "execute_result"
    }
   ],
   "source": [
    "# Load environment variables\n",
    "from dotenv import load_dotenv\n",
    "\n",
    "load_dotenv(dotenv_path=\"../.env\", override=True)\n",
    "\n",
    "# We'll use OpenAI in this tutorial, but you can swap to any provider!\n",
    "# Supported providers: OpenAI, Anthropic, Google, Cohere, and many more"
   ]
  },
  {
   "cell_type": "markdown",
   "metadata": {},
   "source": [
    "## Part 1: Your First LLM Call\n",
    "\n",
    "LangChain provides a **standard model interface** that works across all providers. This means you can easily swap between OpenAI, Anthropic, Google, and other providers without changing your code.\n",
    "\n",
    "Let's start by initializing a chat model."
   ]
  },
  {
   "cell_type": "code",
   "execution_count": 21,
   "metadata": {},
   "outputs": [
    {
     "name": "stdout",
     "output_type": "stream",
     "text": [
      "==================================\u001b[1m Ai Message \u001b[0m==================================\n",
      "\n",
      "LangChain is an open‑source framework for building applications that use large language models (LLMs). It provides the building blocks you need to connect LLMs to data, tools, and multi-step workflows, so you can create robust AI assistants, chatbots, and automation.\n",
      "\n",
      "Key ideas and components:\n",
      "- Chains: sequences of prompts and LLM calls to perform multi-step reasoning.\n",
      "- Prompt templates: reusable prompts that plug in variables.\n",
      "- Agents and tools: agents decide actions and can call external tools or APIs (e.g., search, calculators, code execution, database queries).\n",
      "- Memory: store and reuse context from previous interactions (conversation history, summaries).\n",
      "- Vector stores: manage embeddings for retrieval-augmented generation (RAG) over documents or data sources.\n",
      "- Prompts, callbacks, and evaluation: structured ways to manage prompts, track events, and assess outputs.\n",
      "- Language support: LangChain has Python and JavaScript/TypeScript versions.\n",
      "\n",
      "Typical use cases:\n",
      "- Chatbots and virtual assistants\n",
      "- Question answering over documents or the web\n",
      "- Automating workflows that require planning and tool use\n",
      "- RAG pipelines combining LLMs with external data sources\n",
      "- Code generation, QA, and data extraction tasks\n",
      "\n",
      "Quick note:\n",
      "- LangChain is a framework, not a model. You still need an LLM (e.g., OpenAI, Cohere) and any external tools or data sources you want to integrate.\n",
      "\n",
      "If you’d like, I can show a tiny example (in Python or JS) to illustrate a simple chain or an agent with a tool.\n"
     ]
    }
   ],
   "source": [
    "from langchain.chat_models import init_chat_model\n",
    "\n",
    "# Initialize a chat model - you can easily swap providers!\n",
    "# Examples: \"openai:gpt-5-nano\", \"anthropic:claude-3-7-sonnet-latest\", \"google:gemini-2.0-flash\"\n",
    "model = init_chat_model(\"openai:gpt-5-nano\")\n",
    "\n",
    "# Make your first call!\n",
    "response = model.invoke(\"What is LangChain?\")\n",
    "response.pretty_print()"
   ]
  },
  {
   "cell_type": "markdown",
   "metadata": {},
   "source": [
    "### Key Takeaway:\n",
    "- `init_chat_model()` gives you a standardized interface to any LLM provider\n",
    "- `.invoke()` sends a message and returns a response\n",
    "- No provider lock-in - swap models easily!"
   ]
  },
  {
   "cell_type": "markdown",
   "metadata": {},
   "source": [
    "## Part 2: Understanding Messages\n",
    "\n",
    "**Messages** are the fundamental unit of context for models in LangChain. They represent the input and output of models, carrying both content and metadata.\n",
    "\n",
    "There are different message types:\n",
    "- **SystemMessage** - Instructions for how the model should behave\n",
    "- **HumanMessage** - User input\n",
    "- **AIMessage** - Model responses\n",
    "- **ToolMessage** - Results from tool executions"
   ]
  },
  {
   "cell_type": "code",
   "execution_count": 22,
   "metadata": {},
   "outputs": [
    {
     "name": "stdout",
     "output_type": "stream",
     "text": [
      "==================================\u001b[1m Ai Message \u001b[0m==================================\n",
      "\n",
      "An agent is something that can perceive its environment, make decisions, and take actions to achieve goals.\n",
      "\n",
      "In AI terms:\n",
      "- It’s often a program or robot.\n",
      "- It observes the world with sensors (or inputs), reasons about what to do, and acts with actuators (or outputs).\n",
      "\n",
      "Key ideas:\n",
      "- Autonomy: it can run on its own without constant instructions.\n",
      "- Perception: it observes the environment.\n",
      "- Action: it can affect the environment.\n",
      "- Goal or objective: it tries to do something specific, sometimes optimizing a task or outcome.\n",
      "- Sometimes learning or adapting over time.\n",
      "\n",
      "Types and examples:\n",
      "- Software agents: web crawlers, spam filters, chatbots.\n",
      "- Robotic agents: a vacuum robot, a drone.\n",
      "- Multi-agent systems: several agents that coordinate or compete.\n",
      "\n",
      "Simple examples:\n",
      "- Thermostat: senses temperature, aims to keep it at a setpoint, turns the heater on/off.\n",
      "- Vacuum robot: senses dirt and obstacles, aims to clean, moves and suctions accordingly.\n",
      "\n",
      "If you’re asking in a particular context (AI, gaming, economics, etc.), tell me and I’ll tailor the explanation.\n"
     ]
    }
   ],
   "source": [
    "from langchain_core.messages import HumanMessage, SystemMessage, AIMessage\n",
    "\n",
    "# Create a conversation with different message types\n",
    "messages = [\n",
    "    SystemMessage(content=\"You are a helpful AI assistant that explains technical concepts simply.\"),\n",
    "    HumanMessage(content=\"What is an agent?\"),\n",
    "]\n",
    "\n",
    "response = model.invoke(messages)\n",
    "response.pretty_print()"
   ]
  },
  {
   "cell_type": "markdown",
   "metadata": {},
   "source": [
    "### Multi-turn Conversations\n",
    "\n",
    "Messages make it easy to maintain conversation history:"
   ]
  },
  {
   "cell_type": "code",
   "execution_count": 23,
   "metadata": {},
   "outputs": [
    {
     "name": "stdout",
     "output_type": "stream",
     "text": [
      "==================================\u001b[1m Ai Message \u001b[0m==================================\n",
      "\n",
      "Here’s a concrete example of an agent:\n",
      "\n",
      "Example: Smart garden irrigation controller\n",
      "\n",
      "- Perception (sensors/inputs): soil moisture sensors, current time, weather forecast, valve status.\n",
      "- Decision-making (reasoning): based on moisture level and forecast, decide whether to water and for how long.\n",
      "- Action (actuators): open/close irrigation valves for a set duration.\n",
      "- Goal: keep the garden plants healthy while saving water.\n",
      "- Autonomy: runs on its own after setup; doesn’t need constant instructions.\n",
      "- Learning/adaptation: can adjust moisture targets for different plants or seasons based on past results.\n",
      "\n",
      "How it works in practice:\n",
      "- If the soil is dry and rain isn’t forecasted, the agent turns on the sprinklers for 15 minutes.\n",
      "- If the soil is already moist or rain is expected soon, it does nothing.\n",
      "- Over time, it learns that certain plants need more water and adjusts targets accordingly.\n",
      "\n",
      "If you want, I can tailor a different example to a domain you’re interested in (gaming, economics, robotics, etc.).\n"
     ]
    }
   ],
   "source": [
    "# Continue the conversation\n",
    "messages.append(response)  # Add AI response to history\n",
    "messages.append(HumanMessage(content=\"Can you give me an example?\"))\n",
    "\n",
    "response = model.invoke(messages)\n",
    "response.pretty_print()"
   ]
  },
  {
   "cell_type": "markdown",
   "metadata": {},
   "source": [
    "### Key Takeaway:\n",
    "- Messages represent the conversation history\n",
    "- SystemMessage sets the model's behavior\n",
    "- Build multi-turn conversations by appending messages to a list"
   ]
  },
  {
   "cell_type": "markdown",
   "metadata": {},
   "source": [
    "## Part 3: Adding Tools - Extending LLM Capabilities\n",
    "\n",
    "LLMs are great at language, but they can't access external data or perform actions. **Tools** extend their capabilities. You can give an LLM a list of tools, and when it needs one, it will specify which tool to call. Your job is to execute the tool and feed the results back to the LLM so it can decide what to do next.\n",
    "\n",
    "You can create a tool just by writing a Python function with a clear description. LangChain's `@tool` decorator handles formatting the function's information in the LLM's desired format.  \n",
    "\n",
    "Let's create some simple tools:"
   ]
  },
  {
   "cell_type": "code",
   "execution_count": 24,
   "metadata": {},
   "outputs": [
    {
     "name": "stdout",
     "output_type": "stream",
     "text": [
      "{\"temperature_fahrenheit\": 69.2, \"weather_code\": 3}\n"
     ]
    }
   ],
   "source": [
    "import requests\n",
    "import json\n",
    "\n",
    "from langchain_core.tools import tool\n",
    "\n",
    "\n",
    "# Basic hardcoded tool\n",
    "@tool\n",
    "def search_movies(genre: str) -> str:\n",
    "    \"\"\"Search for movies by genre.\"\"\"\n",
    "    # In a real app, this would query a movie database\n",
    "    movies = {\n",
    "        \"sci-fi\": \"Dune, Interstellar, Blade Runner 2049\",\n",
    "        \"comedy\": \"The Grand Budapest Hotel, Superbad, Knives Out\",\n",
    "        \"action\": \"Mad Max: Fury Road, John Wick, Mission Impossible\"\n",
    "    }\n",
    "    return movies.get(genre.lower(), \"No movies found for that genre\")\n",
    "\n",
    "# More realistic tool that calls an API\n",
    "@tool\n",
    "def get_weather(latitude: float, longitude: float) -> str:\n",
    "    \"\"\"Get current temperature in Fahrenheit and weather code for given coordinates.\n",
    "\n",
    "    Args:\n",
    "        latitude: Latitude coordinate\n",
    "        longitude: Longitude coordinate\n",
    "\n",
    "    Returns:\n",
    "        JSON string with temperature_fahrenheit and weather_code (do not include the code in your response, translate it to plain English)\n",
    "    \"\"\"\n",
    "    url = \"https://api.open-meteo.com/v1/forecast\"\n",
    "    params = {\n",
    "        \"latitude\": latitude,\n",
    "        \"longitude\": longitude,\n",
    "        \"current\": \"temperature_2m,weather_code\",\n",
    "        \"temperature_unit\": \"fahrenheit\"\n",
    "    }\n",
    "\n",
    "    weather = requests.get(url, params=params).json()[\"current\"]\n",
    "    temperature = weather[\"temperature_2m\"]\n",
    "    weather_code = weather[\"weather_code\"]\n",
    "    result = {\n",
    "        \"temperature_fahrenheit\": temperature,\n",
    "        \"weather_code\": weather_code\n",
    "    }\n",
    "\n",
    "    return json.dumps(result)\n",
    "\n",
    "\n",
    "\n",
    "# Test a tool directly with SF's coordinates\n",
    "print(get_weather.invoke({\"latitude\": 37.77, \"longitude\": 122.42}))"
   ]
  },
  {
   "cell_type": "markdown",
   "metadata": {},
   "source": [
    "### Tool Calling (Function Calling)\n",
    "\n",
    "Now let's give these tools to the model using `.bind_tools()`:"
   ]
  },
  {
   "cell_type": "code",
   "execution_count": 28,
   "metadata": {},
   "outputs": [
    {
     "name": "stdout",
     "output_type": "stream",
     "text": [
      "Tool calls: [{'name': 'get_weather', 'args': {'latitude': 47.6062, 'longitude': -122.3321}, 'id': 'call_Yls32daVNVqXWri2Vh0PJpdA', 'type': 'tool_call'}]\n"
     ]
    }
   ],
   "source": [
    "# Bind tools to the model\n",
    "tools = [get_weather, search_movies]\n",
    "model_with_tools = model.bind_tools(tools)\n",
    "message = \"What's the weather like in Seattle?\"\n",
    "\n",
    "# The model can now decide to call tools\n",
    "response = model_with_tools.invoke(message)\n",
    "\n",
    "# Check if the model wants to call a tool\n",
    "print(\"Tool calls:\", response.tool_calls)"
   ]
  },
  {
   "cell_type": "markdown",
   "metadata": {},
   "source": [
    "The model returns a **tool call** request with:\n",
    "- `name`: Which tool to call\n",
    "- `args`: Arguments to pass to the tool\n",
    "- `id`: Unique identifier for tracking\n",
    "\n",
    "Let's execute the tool and continue the conversation:"
   ]
  },
  {
   "cell_type": "code",
   "execution_count": 29,
   "metadata": {},
   "outputs": [
    {
     "name": "stdout",
     "output_type": "stream",
     "text": [
      "==================================\u001b[1m Ai Message \u001b[0m==================================\n",
      "\n",
      "Right now in Seattle: about 59.6°F (roughly 60°F) with clear skies. Want me to check the forecast for the rest of the day or upcoming days?\n"
     ]
    }
   ],
   "source": [
    "from langchain_core.messages import ToolMessage\n",
    "\n",
    "# Execute the tool call\n",
    "if response.tool_calls:\n",
    "    tool_call = response.tool_calls[0]\n",
    "    \n",
    "    # Call the actual tool\n",
    "    if tool_call[\"name\"] == \"get_weather\":\n",
    "        result = get_weather.invoke(tool_call[\"args\"])\n",
    "\n",
    "    elif tool_call[\"name\"] == \"search_movies\":\n",
    "        result = search_movies.invoke(tool_call[\"args\"])\n",
    "    \n",
    "    # Create a ToolMessage with the result\n",
    "    tool_message = ToolMessage(\n",
    "        content=result,\n",
    "        tool_call_id=tool_call[\"id\"]\n",
    "    )\n",
    "    \n",
    "    # Continue the conversation with the tool result\n",
    "    final_response = model_with_tools.invoke([\n",
    "        HumanMessage(content=message),\n",
    "        response,\n",
    "        tool_message\n",
    "    ])\n",
    "    \n",
    "    final_response.pretty_print()"
   ]
  },
  {
   "cell_type": "markdown",
   "metadata": {},
   "source": [
    "### Key Takeaway:\n",
    "- Tools are Python functions decorated with `@tool`\n",
    "- Good descriptions help the model know when to use each tool\n",
    "- Tool calling flow: Model requests tool → Execute tool → Return result → Model synthesizes final response"
   ]
  },
  {
   "cell_type": "markdown",
   "metadata": {},
   "source": [
    "## Part 4: Building Your First Agent with `create_agent()`\n",
    "\n",
    "Manually defining a specific sequence of LLM calls and tool calls is tedious and inflexible. Instead, we can use an **agent** that runs this loop:\n",
    "1. Model decides which tool to call (if any)\n",
    "2. Tool gets executed\n",
    "3. Result goes back to model\n",
    "4. Repeat until task is complete\n",
    "\n",
    "LangChain makes this easy with `create_agent()` - **build an agent in ~10 lines of code!**\n",
    "The prebuilt agent handles running the loop described above - you just specify the system prompt and tools. "
   ]
  },
  {
   "cell_type": "code",
   "execution_count": null,
   "metadata": {},
   "outputs": [
    {
     "name": "stdout",
     "output_type": "stream",
     "text": [
      "================================\u001b[1m Human Message \u001b[0m=================================\n",
      "\n",
      "What's the weather in NYC? Also recommend some sci-fi movies.\n",
      "==================================\u001b[1m Ai Message \u001b[0m==================================\n",
      "Tool Calls:\n",
      "  get_weather (call_t2gVr2a6AIXaJ7evnjH3xci7)\n",
      " Call ID: call_t2gVr2a6AIXaJ7evnjH3xci7\n",
      "  Args:\n",
      "    latitude: 40.7128\n",
      "    longitude: -74.006\n",
      "  search_movies (call_53nsf9Pqfnm4hBxV3Tkpp6Hg)\n",
      " Call ID: call_53nsf9Pqfnm4hBxV3Tkpp6Hg\n",
      "  Args:\n",
      "    genre: Sci-Fi\n",
      "=================================\u001b[1m Tool Message \u001b[0m=================================\n",
      "Name: get_weather\n",
      "\n",
      "{\"temperature_fahrenheit\": 79.5, \"weather_code\": 0}\n",
      "=================================\u001b[1m Tool Message \u001b[0m=================================\n",
      "Name: search_movies\n",
      "\n",
      "Dune, Interstellar, Blade Runner 2049\n",
      "==================================\u001b[1m Ai Message \u001b[0m==================================\n",
      "\n",
      "Here you go:\n",
      "\n",
      "- NYC weather: About 79.5°F with clear skies right now.\n",
      "\n",
      "- Sci-fi movie picks: \n",
      "  - Dune (2021)\n",
      "  - Interstellar (2014)\n",
      "  - Blade Runner 2049 (2017)\n",
      "\n",
      "Want more options (e.g., space opera, cyberpunk, or hard sci-fi) or want to know where to stream any of these?\n"
     ]
    }
   ],
   "source": [
    "from langchain.agents import create_agent\n",
    "\n",
    "# Create an agent with tools\n",
    "agent = create_agent(\n",
    "    model=\"openai:gpt-5-nano\",\n",
    "    tools=[get_weather, search_movies],\n",
    "    system_prompt=\"You are a helpful assistant that can check weather and recommend movies.\"\n",
    ")\n",
    "\n",
    "# Use the agent\n",
    "result = agent.invoke({\n",
    "    \"messages\": [HumanMessage(content=\"What's the weather in NYC? Also recommend some sci-fi movies.\")]\n",
    "})\n",
    "\n",
    "# Print the final response\n",
    "for message in result[\"messages\"]:\n",
    "    message.pretty_print()"
   ]
  },
  {
   "cell_type": "markdown",
   "metadata": {},
   "source": [
    "### What just happened?\n",
    "\n",
    "The agent automatically:\n",
    "1. Analyzed the user's request\n",
    "2. Called `get_weather(\"NYC\")`\n",
    "3. Called `search_movies(\"sci-fi\")`\n",
    "4. Synthesized the results into a natural response\n",
    "\n",
    "Let's visualize the agent's structure:"
   ]
  },
  {
   "cell_type": "code",
   "execution_count": 31,
   "metadata": {},
   "outputs": [
    {
     "data": {
      "image/png": "[encoded data removed]",
      "text/plain": [
       "<langgraph.graph.state.CompiledStateGraph object at 0x1297c2660>"
      ]
     },
     "execution_count": 31,
     "metadata": {},
     "output_type": "execute_result"
    }
   ],
   "source": [
    "agent"
   ]
  },
  {
   "cell_type": "markdown",
   "metadata": {},
   "source": [
    "### Key Takeaway:\n",
    "- `create_agent()` builds a complete agent in ~10 lines\n",
    "- The agent automatically handles the reasoning → action → observation loop\n",
    "- Built on LangGraph for production features (persistence, streaming, human-in-the-loop)"
   ]
  },
  {
   "cell_type": "markdown",
   "metadata": {},
   "source": [
    "## Part 5: Adding Memory & State\n",
    "\n",
    "Right now, each agent invocation is independent. Let's add **memory** so the agent can maintain context across multiple interactions.\n",
    "\n",
    "LangGraph uses **checkpointers** to save and restore state:"
   ]
  },
  {
   "cell_type": "code",
   "execution_count": null,
   "metadata": {},
   "outputs": [
    {
     "name": "stdout",
     "output_type": "stream",
     "text": [
      "Response 1: Nice to meet you, Alice! Since you love sci-fi movies, would you like me to find some recommendations for you?\n",
      "\n",
      "Response 2: Your name is Alice, and you love sci-fi movies. Would you like me to find some sci-fi movie recommendations for you?\n"
     ]
    }
   ],
   "source": [
    "from langgraph.checkpoint.memory import MemorySaver\n",
    "import uuid\n",
    "\n",
    "# Create a checkpointer for memory\n",
    "checkpointer = MemorySaver()\n",
    "\n",
    "# Create an agent with memory\n",
    "agent_with_memory = create_agent(\n",
    "    model=\"openai:gpt-4o-mini\",\n",
    "    tools=[get_weather, search_movies],\n",
    "    system_prompt=\"You are a helpful assistant.\",\n",
    "    checkpointer=checkpointer\n",
    ")\n",
    "\n",
    "# Create a thread for this conversation\n",
    "thread_id = str(uuid.uuid4())\n",
    "config = {\"configurable\": {\"thread_id\": thread_id}}\n",
    "\n",
    "# First interaction\n",
    "result1 = agent_with_memory.invoke(\n",
    "    {\"messages\": [{\"role\": \"user\", \"content\": \"My name is Alice and I love sci-fi movies.\"}]},\n",
    "    config=config\n",
    ")\n",
    "\n",
    "print(\"Response 1:\", result1[\"messages\"][-1].content)\n",
    "\n",
    "# Second interaction - the agent remembers!\n",
    "result2 = agent_with_memory.invoke(\n",
    "    {\"messages\": [{\"role\": \"user\", \"content\": \"What's my name and what movies do I like?\"}]},\n",
    "    config=config\n",
    ")\n",
    "print(\"\\nResponse 2:\", result2[\"messages\"][-1].content)"
   ]
  },
  {
   "cell_type": "markdown",
   "metadata": {},
   "source": [
    "### Understanding State & Threads\n",
    "\n",
    "- **State**: The agent's \"memory\" - includes message history and any custom data\n",
    "- **Thread**: A conversation session identified by `thread_id`\n",
    "- **Checkpointer**: Saves state after each step, enabling memory and error recovery\n",
    "\n",
    "Each thread is independent:"
   ]
  },
  {
   "cell_type": "code",
   "execution_count": 33,
   "metadata": {},
   "outputs": [
    {
     "name": "stdout",
     "output_type": "stream",
     "text": [
      "New thread response: I don't know your name. If you'd like to share it with me, feel free!\n"
     ]
    }
   ],
   "source": [
    "# New thread - agent won't remember Alice\n",
    "new_thread_id = str(uuid.uuid4())\n",
    "new_config = {\"configurable\": {\"thread_id\": new_thread_id}}\n",
    "\n",
    "result3 = agent_with_memory.invoke(\n",
    "    {\"messages\": [{\"role\": \"user\", \"content\": \"What's my name?\"}]},\n",
    "    config=new_config\n",
    ")\n",
    "print(\"New thread response:\", result3[\"messages\"][-1].content)"
   ]
  },
  {
   "cell_type": "markdown",
   "metadata": {},
   "source": [
    "### Key Takeaway:\n",
    "- Checkpointers enable memory across interactions\n",
    "- Thread IDs separate different conversations\n",
    "- State persists automatically - no manual state management needed!"
   ]
  },
  {
   "cell_type": "markdown",
   "metadata": {},
   "source": [
    "## Part 6: Streaming for Better UX\n",
    "\n",
    "LLMs can take a while to respond. **Streaming** shows progress in real-time, dramatically improving user experience.\n",
    "\n",
    "LangChain supports multiple streaming modes:"
   ]
  },
  {
   "cell_type": "markdown",
   "metadata": {},
   "source": [
    "### Streaming Agent Steps"
   ]
  },
  {
   "cell_type": "code",
   "execution_count": 34,
   "metadata": {},
   "outputs": [
    {
     "name": "stdout",
     "output_type": "stream",
     "text": [
      "Streaming agent steps:\n",
      "\n",
      "Step: agent\n",
      "   Tool call: get_weather\n",
      "\n",
      "Step: tools\n",
      "   Content: {\"temperature_fahrenheit\": 82.5, \"weather_code\": 0}\n",
      "\n",
      "Step: agent\n",
      "   Content: Boston right now is about 82.5°F with clear skies. Would you like a movie recommendation to match th...\n",
      "\n"
     ]
    }
   ],
   "source": [
    "# Stream agent progress with stream_mode=\"updates\"\n",
    "print(\"Streaming agent steps:\\n\")\n",
    "\n",
    "for chunk in agent.stream(\n",
    "    {\"messages\": [{\"role\": \"user\", \"content\": \"What's the weather in Boston?\"}]},\n",
    "    stream_mode=\"updates\"\n",
    "):\n",
    "    for node_name, data in chunk.items():\n",
    "        print(f\"Step: {node_name}\")\n",
    "        if \"messages\" in data:\n",
    "            message = data[\"messages\"][-1]\n",
    "            if hasattr(message, 'tool_calls') and message.tool_calls:\n",
    "                print(f\"   Tool call: {message.tool_calls[0]['name']}\")\n",
    "            elif hasattr(message, 'content'):\n",
    "                print(f\"   Content: {message.content[:100]}...\" if len(message.content) > 100 else f\"   Content: {message.content}\")\n",
    "        print()"
   ]
  },
  {
   "cell_type": "markdown",
   "metadata": {},
   "source": [
    "### Streaming LLM Tokens\n",
    "\n",
    "For a ChatGPT-like experience, stream tokens as they're generated:"
   ]
  },
  {
   "cell_type": "code",
   "execution_count": 35,
   "metadata": {},
   "outputs": [
    {
     "name": "stdout",
     "output_type": "stream",
     "text": [
      "Streaming tokens:\n",
      "\n",
      "Could you clarify which LangGraph you mean (e.g., a software library, a research project, or a specific product) so I can describe it accurately in one sentence?\n",
      "\n"
     ]
    }
   ],
   "source": [
    "# Stream tokens with stream_mode=\"messages\"\n",
    "print(\"Streaming tokens:\\n\")\n",
    "\n",
    "for token, metadata in agent.stream(\n",
    "    {\"messages\": [{\"role\": \"user\", \"content\": \"Tell me about LangGraph in one sentence.\"}]},\n",
    "    stream_mode=\"messages\"\n",
    "):\n",
    "    # Only print content from the agent node\n",
    "    if metadata.get('langgraph_node') == 'agent':\n",
    "        # Get text from content blocks\n",
    "        for block in token.content_blocks:\n",
    "            if block.get('type') == 'text' and block.get('text'):\n",
    "                print(block['text'], end='', flush=True)\n",
    "\n",
    "print(\"\\n\")  # New line at the end"
   ]
  },
  {
   "cell_type": "markdown",
   "metadata": {},
   "source": [
    "### Key Takeaway:\n",
    "- `stream_mode=\"updates\"` - See each agent step (useful for debugging)\n",
    "- `stream_mode=\"messages\"` - Stream LLM tokens (ChatGPT-like UX)\n",
    "- Streaming is built-in - no extra setup required!"
   ]
  },
  {
   "cell_type": "markdown",
   "metadata": {},
   "source": [
    "## Part 7: Putting It All Together - A Practical Example\n",
    "\n",
    "Let's build a more realistic agent that combines everything we've learned:"
   ]
  },
  {
   "cell_type": "code",
   "execution_count": null,
   "metadata": {},
   "outputs": [
    {
     "name": "stdout",
     "output_type": "stream",
     "text": [
      "==================================================\n",
      "PERSONAL ASSISTANT DEMO\n",
      "==================================================\n",
      "\n",
      "User: Hi, I'm Alice. Can you check my preferences and recommend a movie?\n",
      "\n",
      "Assistant: Hi Alice! Nice to meet you.\n",
      "\n",
      "I pulled up your saved preferences: you love sci-fi movies and you prefer warm-weather destinations.\n",
      "\n",
      "I tried to fetch a tailored pick from my recommender, but it didn’t return a specific title this time. In the meantime, here are some strong sci-fi picks that fit a warm/tropical vibe:\n",
      "\n",
      "- Avatar (2009) — lush, tropical world with stunning visuals and big sci-fi adventure.\n",
      "- Jurassic Park (1993) — a classic on a tropical island; perfect blend of science fiction and thrilling action.\n",
      "- Jurassic World (2015) — modern take on the island-resort idea with plenty of sun-soaked settings.\n",
      "- Dune (2021) — desert heat and epic sci-fi drama for a grand, sun-baked atmosphere.\n",
      "\n",
      "Would you like me to check streaming availability for any of these, or tailor further (e.g., more action-heavy, lighter tone, or runtime preferences)?\n",
      "\n",
      "User: Also, what's the weather like in San Francisco?\n",
      "\n",
      "Assistant: Hi Alice! Here’s the latest for San Francisco:\n",
      "\n",
      "- Temperature: about 76°F (75.7°F), so pleasantly warm.\n",
      "- Sky: clear skies (sunny).\n",
      "\n",
      "Want a short-term forecast (next few hours or days) or a detailed 7-day outlook? I can pull that up. And if you’d like, I can tailor movie recaps as well (e.g., more action-packed sci-fi with warm-weather vibes or lighter tone).\n",
      "\n",
      "==================================================\n"
     ]
    }
   ],
   "source": [
    "# Create more realistic tools\n",
    "@tool\n",
    "def get_user_preferences(user_id: str) -> str:\n",
    "    \"\"\"Get a user's saved preferences.\"\"\"\n",
    "    # Simulate a user database\n",
    "    preferences = {\n",
    "        \"alice\": \"Loves sci-fi movies, prefers warm weather destinations\",\n",
    "        \"bob\": \"Enjoys comedy films, likes cold climates for travel\"\n",
    "    }\n",
    "    return preferences.get(user_id.lower(), \"No preferences found\")\n",
    "\n",
    "@tool\n",
    "def book_recommendation(genre: str, user_preferences: str = \"\") -> str:\n",
    "    \"\"\"Get personalized movie recommendations based on genre and user preferences.\"\"\"\n",
    "    recommendations = {\n",
    "        \"sci-fi\": \"Based on your preferences, try: Arrival, Ex Machina, or The Martian\",\n",
    "        \"comedy\": \"Based on your preferences, try: The Big Lebowski, Anchorman, or Bridesmaids\"\n",
    "    }\n",
    "    return recommendations.get(genre.lower(), \"No recommendations available\")\n",
    "\n",
    "# Create a helpful assistant agent\n",
    "assistant = create_agent(\n",
    "    model=\"openai:gpt-5-nano\",\n",
    "    tools=[get_weather, get_user_preferences, book_recommendation],\n",
    "    system_prompt=\"\"\"You are a helpful personal assistant. \n",
    "    \n",
    "    You can:\n",
    "    - Check weather for any city\n",
    "    - Look up user preferences\n",
    "    - Recommend movies based on preferences\n",
    "    \n",
    "    Always be friendly and personalize your responses based on user preferences.\"\"\",\n",
    "    checkpointer=MemorySaver()\n",
    ")\n",
    "\n",
    "# Demo conversation\n",
    "thread_id = str(uuid.uuid4())\n",
    "config = {\"configurable\": {\"thread_id\": thread_id}}\n",
    "\n",
    "print(\"=\" * 50)\n",
    "print(\"PERSONAL ASSISTANT DEMO\")\n",
    "print(\"=\" * 50 + \"\\n\")\n",
    "\n",
    "# Interaction 1\n",
    "print(\"User: Hi, I'm Alice. Can you check my preferences and recommend a movie?\\n\")\n",
    "result = assistant.invoke(\n",
    "    {\"messages\": [{\"role\": \"user\", \"content\": \"Hi, I'm Alice. Can you check my preferences and recommend a movie?\"}]},\n",
    "    config=config\n",
    ")\n",
    "print(f\"Assistant: {result['messages'][-1].content}\\n\")\n",
    "\n",
    "# Interaction 2\n",
    "print(\"User: Also, what's the weather like in San Francisco?\\n\")\n",
    "result = assistant.invoke(\n",
    "    {\"messages\": [{\"role\": \"user\", \"content\": \"Also, what's the weather like in San Francisco?\"}]},\n",
    "    config=config\n",
    ")\n",
    "print(f\"Assistant: {result['messages'][-1].content}\\n\")\n",
    "\n",
    "print(\"=\" * 50)"
   ]
  },
  {
   "cell_type": "markdown",
   "metadata": {},
   "source": [
    "## Part 8: Next Steps - Exploring LangGraph Primitives\n",
    "\n",
    "We've been using `create_agent()`, which is built on **LangGraph**. LangGraph gives you full control over agent behavior using three core primitives:\n",
    "\n",
    "### Core LangGraph Concepts:\n",
    "\n",
    "1. **State** \n",
    "   - Shared data structure passed between nodes\n",
    "   - Represents the agent's \"memory\"\n",
    "   - Can include messages, custom data, etc.\n",
    "\n",
    "2. **Nodes** \n",
    "   - Python functions that process state\n",
    "   - Each node performs a specific task\n",
    "   - Examples: call LLM, execute tool, validate input\n",
    "\n",
    "3. **Edges** \n",
    "   - Define flow between nodes\n",
    "   - Can be normal (always go to next node)\n",
    "   - Or conditional (decide based on logic)"
   ]
  },
  {
   "cell_type": "markdown",
   "metadata": {},
   "source": [
    "### When to use `create_agent()` vs custom LangGraph?\n",
    "\n",
    "**Use `create_agent()` when:**\n",
    "- Building standard ReAct-style agents\n",
    "- You need quick prototyping\n",
    "- Default behavior works for your use case\n",
    "\n",
    "**Use custom LangGraph when:**\n",
    "- You need custom control flow (e.g., approval workflows)\n",
    "- Building multi-agent systems\n",
    "- Implementing human-in-the-loop patterns\n",
    "- Complex state management requirements\n",
    "\n",
    "For more advanced patterns, check out:\n",
    "- [LangGraph Documentation](https://langchain-ai.github.io/langgraph/)\n",
    "- [LangChain Academy](https://academy.langchain.com/)\n",
    "- The `multi_agent.ipynb` notebook in this repo (LangGraph 201)"
   ]
  },
  {
   "cell_type": "markdown",
   "metadata": {},
   "source": [
    "## 🎉 Congratulations!\n",
    "\n",
    "You've learned the core concepts of building agents with LangChain and LangGraph:\n",
    "\n",
    " **Models** - Standardized interface across providers  \n",
    " **Messages** - Building block of conversations  \n",
    " **Tools** - Extending LLM capabilities  \n",
    " **Agents** - Automated reasoning and action loops  \n",
    " **Memory** - Maintaining context across interactions  \n",
    " **Streaming** - Real-time user experience  \n",
    " **LangGraph** - The foundation powering it all\n",
    "\n",
    "### What's Next?\n",
    "\n",
    "1. **Build your own agent** with your specific tools and use case\n",
    "2. **Explore advanced patterns** in the `multi_agent.ipynb` notebook\n",
    "3. **Add debugging** with [LangSmith](https://smith.langchain.com)\n",
    "4. **Deploy to production** using LangGraph's persistence and error recovery\n",
    "\n",
    "### Resources:\n",
    "\n",
    "- [LangChain Documentation](https://python.langchain.com/docs/introduction/)\n",
    "- [LangGraph Documentation](https://langchain-ai.github.io/langgraph/)\n",
    "- [LangSmith for Debugging](https://smith.langchain.com)\n",
    "- [LangChain Academy](https://academy.langchain.com/)\n",
    "<br> \n",
    "<br> \n",
    "---\n",
    "<br> \n",
    "\n",
    "**Happy building!**"
   ]
  }
 ],
 "metadata": {
  "kernelspec": {
   "display_name": "Python 3 (ipykernel)",
   "language": "python",
   "name": "python3"
  },
  "language_info": {
   "codemirror_mode": {
    "name": "ipython",
    "version": 3
   },
   "file_extension": ".py",
   "mimetype": "text/x-python",
   "name": "python",
   "nbconvert_exporter": "python",
   "pygments_lexer": "ipython3",
   "version": "3.13.6"
  }
 },
 "nbformat": 4,
 "nbformat_minor": 4
}
